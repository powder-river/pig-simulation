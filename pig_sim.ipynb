{
 "cells": [
  {
   "cell_type": "code",
   "execution_count": 1,
   "metadata": {
    "collapsed": true
   },
   "outputs": [],
   "source": [
    "import random\n",
    "import math\n",
    "import statistics as stats\n",
    "import matplotlib.pyplot as plt"
   ]
  },
  {
   "cell_type": "code",
   "execution_count": 2,
   "metadata": {
    "collapsed": true
   },
   "outputs": [],
   "source": [
    "%matplotlib inline"
   ]
  },
  {
   "cell_type": "code",
   "execution_count": 25,
   "metadata": {
    "collapsed": false
   },
   "outputs": [],
   "source": [
    "class Game:\n",
    "    def __init__(self,player):\n",
    "\n",
    "        self.player = player\n",
    "        \n",
    "    def play(self):\n",
    "        score = []\n",
    "        turns = 1\n",
    "        while turns < 8:\n",
    "            score.append(self.player.take_turn())\n",
    "            turns += 1\n",
    "            print(\"Round {}: Score: {}\".format(turns,score))\n",
    "        return sum(score)\n",
    "    \n",
    "    \n",
    "    \n",
    "    def play_many(self,num=20):\n",
    "        array = []\n",
    "        for _ in range(num):\n",
    "            game = self.play()\n",
    "            array.append(game)\n",
    "        return array\n",
    "\n",
    "\n",
    "#         while num > 0:\n",
    "#             game =  self.play()\n",
    "#             array.append(game)\n",
    "#             num -= 1\n",
    "#             print(\"game {} complete\".format(num))\n",
    "#         return array\n",
    "            \n",
    "            \n",
    "        \n",
    "        "
   ]
  },
  {
   "cell_type": "code",
   "execution_count": null,
   "metadata": {
    "collapsed": false
   },
   "outputs": [],
   "source": []
  },
  {
   "cell_type": "code",
   "execution_count": null,
   "metadata": {
    "collapsed": false
   },
   "outputs": [],
   "source": []
  },
  {
   "cell_type": "code",
   "execution_count": 8,
   "metadata": {
    "collapsed": false
   },
   "outputs": [],
   "source": [
    "class Player():\n",
    "    def __init__(self):\n",
    "        self.total = []\n",
    "        \n",
    "    def roll_dice(self):\n",
    "        return random.randint(1,6)\n",
    "    \n",
    "    \n",
    "    \n",
    "    def take_turn(self):\n",
    "        round_total = [] \n",
    "        count = self.strategy()\n",
    "        \n",
    "        \n",
    "        while count > 0:\n",
    "            roll = self.roll_dice()\n",
    "#             print(roll)\n",
    "            if roll == 1:\n",
    "                round_total = [0]\n",
    "                break\n",
    "            else:\n",
    "                round_total.append(roll)\n",
    "                count -= 1\n",
    "        return sum(round_total)\n",
    "    \n",
    "    \n",
    "    \n",
    "    def strategy(self):\n",
    "        return 3\n",
    "    \n",
    "    \n",
    "    "
   ]
  },
  {
   "cell_type": "code",
   "execution_count": 26,
   "metadata": {
    "collapsed": false
   },
   "outputs": [
    {
     "name": "stdout",
     "output_type": "stream",
     "text": [
      "Round 2: Score: [13]\n",
      "Round 3: Score: [13, 0]\n",
      "Round 4: Score: [13, 0, 12]\n",
      "Round 5: Score: [13, 0, 12, 0]\n",
      "Round 6: Score: [13, 0, 12, 0, 11]\n",
      "Round 7: Score: [13, 0, 12, 0, 11, 16]\n",
      "Round 8: Score: [13, 0, 12, 0, 11, 16, 0]\n",
      "----------------------------------------\n",
      "Round 2: Score: [0]\n",
      "Round 3: Score: [0, 10]\n",
      "Round 4: Score: [0, 10, 0]\n",
      "Round 5: Score: [0, 10, 0, 0]\n",
      "Round 6: Score: [0, 10, 0, 0, 15]\n",
      "Round 7: Score: [0, 10, 0, 0, 15, 15]\n",
      "Round 8: Score: [0, 10, 0, 0, 15, 15, 0]\n"
     ]
    },
    {
     "data": {
      "text/plain": [
       "40"
      ]
     },
     "execution_count": 26,
     "metadata": {},
     "output_type": "execute_result"
    }
   ],
   "source": [
    "danai = Player()\n",
    "pig = Game(danai)\n",
    "pig.play()\n",
    "\n",
    "print('----------------------------------------')\n",
    "\n",
    "pig.play()\n"
   ]
  },
  {
   "cell_type": "code",
   "execution_count": null,
   "metadata": {
    "collapsed": true
   },
   "outputs": [],
   "source": []
  }
 ],
 "metadata": {
  "kernelspec": {
   "display_name": "Python 3",
   "language": "python",
   "name": "python3"
  },
  "language_info": {
   "codemirror_mode": {
    "name": "ipython",
    "version": 3
   },
   "file_extension": ".py",
   "mimetype": "text/x-python",
   "name": "python",
   "nbconvert_exporter": "python",
   "pygments_lexer": "ipython3",
   "version": "3.4.3"
  }
 },
 "nbformat": 4,
 "nbformat_minor": 0
}
