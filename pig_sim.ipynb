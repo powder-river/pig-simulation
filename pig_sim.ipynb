{
 "cells": [
  {
   "cell_type": "code",
   "execution_count": 2,
   "metadata": {
    "collapsed": true
   },
   "outputs": [],
   "source": [
    "import random\n",
    "import math\n",
    "import statistics as stats\n",
    "import matplotlib.pyplot as plt"
   ]
  },
  {
   "cell_type": "code",
   "execution_count": 3,
   "metadata": {
    "collapsed": true
   },
   "outputs": [],
   "source": [
    "%matplotlib inline"
   ]
  },
  {
   "cell_type": "code",
   "execution_count": 63,
   "metadata": {
    "collapsed": false
   },
   "outputs": [],
   "source": [
    "class Game:\n",
    "    def __init__(self,player,turns=7):\n",
    "        self.turns = turns\n",
    "        self.player = player\n",
    "        \n",
    "    def play(self):\n",
    "        score = []\n",
    "        \n",
    "        while self.turns > 0:\n",
    "            score.append(self.player.take_turn())\n",
    "            self.turns -= 1\n",
    "        return sum(score)\n",
    "            \n",
    "            \n",
    "        \n",
    "        "
   ]
  },
  {
   "cell_type": "code",
   "execution_count": 64,
   "metadata": {
    "collapsed": false
   },
   "outputs": [
    {
     "name": "stdout",
     "output_type": "stream",
     "text": [
      "6\n",
      "[6]\n",
      "3\n",
      "[6, 3]\n",
      "2\n",
      "[6, 3, 2]\n",
      "6\n",
      "[6]\n",
      "4\n",
      "[6, 4]\n",
      "5\n",
      "[6, 4, 5]\n",
      "1\n",
      "6\n",
      "[6]\n",
      "1\n",
      "6\n",
      "[6]\n",
      "1\n",
      "6\n",
      "[6]\n",
      "1\n",
      "4\n",
      "[4]\n",
      "5\n",
      "[4, 5]\n",
      "4\n",
      "[4, 5, 4]\n"
     ]
    },
    {
     "data": {
      "text/plain": [
       "39"
      ]
     },
     "execution_count": 64,
     "metadata": {},
     "output_type": "execute_result"
    }
   ],
   "source": [
    "danai = Player()\n",
    "pig = Game(danai)\n",
    "\n",
    "pig.play()"
   ]
  },
  {
   "cell_type": "code",
   "execution_count": null,
   "metadata": {
    "collapsed": false
   },
   "outputs": [],
   "source": []
  },
  {
   "cell_type": "code",
   "execution_count": 58,
   "metadata": {
    "collapsed": false
   },
   "outputs": [],
   "source": [
    "class Player():\n",
    "    def __init__(self):\n",
    "        self.total = []\n",
    "       \n",
    "    \n",
    "    def roll_dice(self):\n",
    "        return random.randint(1,6)\n",
    "    \n",
    "    \n",
    "    \n",
    "    def take_turn(self):\n",
    "        round_total = [] \n",
    "        count = self.strategy()\n",
    "        \n",
    "        while count > 0:\n",
    "            roll = self.roll_dice()\n",
    "            print(roll)\n",
    "            if roll == 1:\n",
    "                round_total = [0]\n",
    "                break\n",
    "            else:\n",
    "                round_total.append(roll)\n",
    "                count -= 1\n",
    "                print(round_total)\n",
    "        return sum(round_total)\n",
    "    \n",
    "    \n",
    "    \n",
    "    def strategy(self):\n",
    "        return 3\n",
    "    \n",
    "    \n",
    "    "
   ]
  },
  {
   "cell_type": "code",
   "execution_count": null,
   "metadata": {
    "collapsed": true
   },
   "outputs": [],
   "source": []
  }
 ],
 "metadata": {
  "kernelspec": {
   "display_name": "Python 3",
   "language": "python",
   "name": "python3"
  },
  "language_info": {
   "codemirror_mode": {
    "name": "ipython",
    "version": 3
   },
   "file_extension": ".py",
   "mimetype": "text/x-python",
   "name": "python",
   "nbconvert_exporter": "python",
   "pygments_lexer": "ipython3",
   "version": "3.4.3"
  }
 },
 "nbformat": 4,
 "nbformat_minor": 0
}
